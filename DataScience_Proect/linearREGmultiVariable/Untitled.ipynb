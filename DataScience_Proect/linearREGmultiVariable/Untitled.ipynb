{
 "cells": [
  {
   "cell_type": "code",
   "execution_count": 12,
   "id": "d235ef52",
   "metadata": {},
   "outputs": [],
   "source": [
    "import pandas as pd\n",
    "import numpy as np\n",
    "\n",
    "from sklearn import linear_model"
   ]
  },
  {
   "cell_type": "code",
   "execution_count": 10,
   "id": "fa32887d",
   "metadata": {},
   "outputs": [
    {
     "data": {
      "text/html": [
       "<div>\n",
       "<style scoped>\n",
       "    .dataframe tbody tr th:only-of-type {\n",
       "        vertical-align: middle;\n",
       "    }\n",
       "\n",
       "    .dataframe tbody tr th {\n",
       "        vertical-align: top;\n",
       "    }\n",
       "\n",
       "    .dataframe thead th {\n",
       "        text-align: right;\n",
       "    }\n",
       "</style>\n",
       "<table border=\"1\" class=\"dataframe\">\n",
       "  <thead>\n",
       "    <tr style=\"text-align: right;\">\n",
       "      <th></th>\n",
       "      <th>biking</th>\n",
       "      <th>smoking</th>\n",
       "      <th>heart.disease</th>\n",
       "    </tr>\n",
       "  </thead>\n",
       "  <tbody>\n",
       "    <tr>\n",
       "      <th>0</th>\n",
       "      <td>30.801246</td>\n",
       "      <td>10.896608</td>\n",
       "      <td>11.769423</td>\n",
       "    </tr>\n",
       "    <tr>\n",
       "      <th>1</th>\n",
       "      <td>65.129215</td>\n",
       "      <td>2.219563</td>\n",
       "      <td>2.854081</td>\n",
       "    </tr>\n",
       "    <tr>\n",
       "      <th>2</th>\n",
       "      <td>1.959665</td>\n",
       "      <td>17.588331</td>\n",
       "      <td>17.177803</td>\n",
       "    </tr>\n",
       "    <tr>\n",
       "      <th>3</th>\n",
       "      <td>44.800196</td>\n",
       "      <td>2.802559</td>\n",
       "      <td>6.816647</td>\n",
       "    </tr>\n",
       "    <tr>\n",
       "      <th>4</th>\n",
       "      <td>69.428454</td>\n",
       "      <td>15.974505</td>\n",
       "      <td>4.062224</td>\n",
       "    </tr>\n",
       "    <tr>\n",
       "      <th>...</th>\n",
       "      <td>...</td>\n",
       "      <td>...</td>\n",
       "      <td>...</td>\n",
       "    </tr>\n",
       "    <tr>\n",
       "      <th>493</th>\n",
       "      <td>47.660440</td>\n",
       "      <td>27.562464</td>\n",
       "      <td>11.294392</td>\n",
       "    </tr>\n",
       "    <tr>\n",
       "      <th>494</th>\n",
       "      <td>45.097203</td>\n",
       "      <td>21.385620</td>\n",
       "      <td>9.616762</td>\n",
       "    </tr>\n",
       "    <tr>\n",
       "      <th>495</th>\n",
       "      <td>8.279743</td>\n",
       "      <td>6.423720</td>\n",
       "      <td>13.495168</td>\n",
       "    </tr>\n",
       "    <tr>\n",
       "      <th>496</th>\n",
       "      <td>42.345863</td>\n",
       "      <td>20.741328</td>\n",
       "      <td>10.115865</td>\n",
       "    </tr>\n",
       "    <tr>\n",
       "      <th>497</th>\n",
       "      <td>30.774254</td>\n",
       "      <td>23.610175</td>\n",
       "      <td>11.843556</td>\n",
       "    </tr>\n",
       "  </tbody>\n",
       "</table>\n",
       "<p>498 rows × 3 columns</p>\n",
       "</div>"
      ],
      "text/plain": [
       "        biking    smoking  heart.disease\n",
       "0    30.801246  10.896608      11.769423\n",
       "1    65.129215   2.219563       2.854081\n",
       "2     1.959665  17.588331      17.177803\n",
       "3    44.800196   2.802559       6.816647\n",
       "4    69.428454  15.974505       4.062224\n",
       "..         ...        ...            ...\n",
       "493  47.660440  27.562464      11.294392\n",
       "494  45.097203  21.385620       9.616762\n",
       "495   8.279743   6.423720      13.495168\n",
       "496  42.345863  20.741328      10.115865\n",
       "497  30.774254  23.610175      11.843556\n",
       "\n",
       "[498 rows x 3 columns]"
      ]
     },
     "execution_count": 10,
     "metadata": {},
     "output_type": "execute_result"
    }
   ],
   "source": [
    "# reading the data\n",
    "heart_df = pd.read_csv(\"heart.data.csv\")\n",
    "\n",
    "\n",
    "# cleaning the dataset and removing columns that are not needed\n",
    "heart_df.drop('id',axis= 'columns')\n"
   ]
  },
  {
   "cell_type": "code",
   "execution_count": 16,
   "id": "98b48251",
   "metadata": {},
   "outputs": [
    {
     "data": {
      "text/plain": [
       "LinearRegression()"
      ]
     },
     "execution_count": 16,
     "metadata": {},
     "output_type": "execute_result"
    }
   ],
   "source": [
    "# creating and training the model\n",
    "multiReg = linear_model.LinearRegression()\n",
    "multiReg.fit(heart_df [['biking','smoking']], heart_df ['heart.disease'])"
   ]
  },
  {
   "cell_type": "code",
   "execution_count": 17,
   "id": "d8cf8057",
   "metadata": {},
   "outputs": [
    {
     "name": "stderr",
     "output_type": "stream",
     "text": [
      "C:\\Users\\FOLIO 9470M\\anaconda3\\lib\\site-packages\\sklearn\\base.py:450: UserWarning: X does not have valid feature names, but LinearRegression was fitted with feature names\n",
      "  warnings.warn(\n"
     ]
    },
    {
     "data": {
      "text/plain": [
       "array([16.18939711])"
      ]
     },
     "execution_count": 17,
     "metadata": {},
     "output_type": "execute_result"
    }
   ],
   "source": [
    "multiReg.predict([[2,9]])\n"
   ]
  },
  {
   "cell_type": "code",
   "execution_count": null,
   "id": "a40be32d",
   "metadata": {},
   "outputs": [],
   "source": []
  }
 ],
 "metadata": {
  "kernelspec": {
   "display_name": "Python 3 (ipykernel)",
   "language": "python",
   "name": "python3"
  },
  "language_info": {
   "codemirror_mode": {
    "name": "ipython",
    "version": 3
   },
   "file_extension": ".py",
   "mimetype": "text/x-python",
   "name": "python",
   "nbconvert_exporter": "python",
   "pygments_lexer": "ipython3",
   "version": "3.9.15"
  }
 },
 "nbformat": 4,
 "nbformat_minor": 5
}
