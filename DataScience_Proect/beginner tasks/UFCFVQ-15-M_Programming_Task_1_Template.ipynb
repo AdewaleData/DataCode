{
 "cells": [
  {
   "cell_type": "markdown",
   "metadata": {
    "deletable": false
   },
   "source": [
    "# UFCFVQ-15-M Programming for Data Science (Autumn 2022)\n"
   ]
  },
  {
   "cell_type": "markdown",
   "metadata": {
    "deletable": false
   },
   "source": [
    "<p style=\"color:red; font-weight:bold; font-size:xx-small\">OVERALL COURSEWORK MARK: ___%</p>"
   ]
  },
  {
   "cell_type": "markdown",
   "metadata": {
    "deletable": false
   },
   "source": [
    "### GitLab link submission, README.md file and Git commit messages\n",
    "<p style=\"color:red; font-weight:bold; font-size:xx-small\">MARK: __%</p>\n",
    "<p style=\"color:red; font-weight:bold; font-size:xx-small\">FEEDBACK: </p>"
   ]
  },
  {
   "cell_type": "markdown",
   "metadata": {
    "deletable": false
   },
   "source": [
    "# Programming Task 1\n",
    "\n",
    "## Student Id: "
   ]
  },
  {
   "cell_type": "code",
   "execution_count": null,
   "metadata": {},
   "outputs": [],
   "source": []
  },
  {
   "cell_type": "markdown",
   "metadata": {
    "deletable": false
   },
   "source": [
    "### Requirement FR1 - Develop a function to find the arithmetic mean"
   ]
  },
  {
   "cell_type": "code",
   "execution_count": 1,
   "metadata": {
    "deletable": false,
    "scrolled": true
   },
   "outputs": [
    {
     "name": "stdout",
     "output_type": "stream",
     "text": [
      "759.0\n"
     ]
    }
   ],
   "source": [
    "# replace with your code\n",
    "\n",
    "\n",
    "def meanCalc(myList):\n",
    "    container = 0 #the summing variable\n",
    "    for data in myList:\n",
    "        #looping through the given list and summing up the values  \n",
    "        container= data+container\n",
    "    mean = container/(len(myList)) # calculating the mean of the list values\n",
    "    return mean\n",
    "print (meanCalc([1,2,100,2933]))\n",
    "\n"
   ]
  },
  {
   "cell_type": "markdown",
   "metadata": {
    "deletable": false
   },
   "source": [
    "<p style=\"color:red; font-weight:bold; font-size:xx-small\">MARK: __%</p>\n",
    "<p style=\"color:red; font-weight:bold; font-size:xx-small\">FEEDBACK: </p>"
   ]
  },
  {
   "cell_type": "code",
   "execution_count": null,
   "metadata": {},
   "outputs": [],
   "source": []
  },
  {
   "cell_type": "markdown",
   "metadata": {
    "deletable": false
   },
   "source": [
    "### Requirement FR2 - Develop a function to read a single column from a CSV file"
   ]
  },
  {
   "cell_type": "code",
   "execution_count": 2,
   "metadata": {
    "deletable": false,
    "scrolled": false
   },
   "outputs": [],
   "source": [
    "# replace with your code\n",
    "\n",
    "def readColumn(dataFile, colNum):\n",
    "    dummyList=[] # to store the data for further analysis\n",
    "    result=[] # to store the data in the column specified\n",
    "    # opening the file \n",
    "    with open(dataFile, 'r') as file:\n",
    "        # storing each row in the file as a list\n",
    "        for line in file:      \n",
    "            line = line.replace(\"\\n\", \"\").split(',') # cleaning the file \n",
    "            # this code is to convert all string numbers to floats\n",
    "            for i in range(0, len(line)):\n",
    "                try:\n",
    "                    line[i] = float(line[i])\n",
    "                except ValueError:\n",
    "                    line[i] = line[i]\n",
    "                \n",
    "            dummyList.append(line) # replacing the dummylist with the modified strings to float\n",
    "            \n",
    "        columName = dummyList[0][colNum] # stores the name of the column\n",
    "        dummyList= dummyList[1:]  # grabs the lists in the dummylist excluding the list containing the column names\n",
    "        \n",
    "        # getting the data for the specified colum number and stores it in the result list\n",
    "        for data in dummyList:\n",
    "            \n",
    "            result.append(data[colNum])\n",
    "            \n",
    "    return result, columName\n",
    "            \n",
    "            \n",
    "            \n",
    "#readColumn('task1.csv', 0)\n",
    "\n",
    "\n",
    "\n",
    "\n",
    "\n"
   ]
  },
  {
   "cell_type": "code",
   "execution_count": null,
   "metadata": {},
   "outputs": [],
   "source": [
    "\n",
    "  \n",
    "    "
   ]
  },
  {
   "cell_type": "markdown",
   "metadata": {
    "deletable": false
   },
   "source": [
    "<p style=\"color:red; font-weight:bold; font-size:xx-small\">MARK: __%</p>\n",
    "<p style=\"color:red; font-weight:bold; font-size:xx-small\">FEEDBACK: </p>"
   ]
  },
  {
   "cell_type": "markdown",
   "metadata": {
    "deletable": false
   },
   "source": [
    "### Requirement FR3 - Develop a function to read CSV data from a file into memory"
   ]
  },
  {
   "cell_type": "code",
   "execution_count": 3,
   "metadata": {
    "deletable": false
   },
   "outputs": [],
   "source": [
    "# replace with your code\n",
    "\n",
    "def readCsvToMemory(dataFile):\n",
    "    StorageDict = {}\n",
    "    \n",
    "    with open(dataFile, 'r') as file:\n",
    "        for line in file:      \n",
    "            line = line.replace(\"\\n\", \"\").split(',') \n",
    "        \n",
    "        lengthOfRow = len(line)\n",
    "        for i in range(0,lengthOfRow):\n",
    "            temp = readColumn(dataFile, i)\n",
    "            StorageDict[temp[1]] = temp[0]\n",
    "            \n",
    "    return StorageDict\n",
    "  \n",
    "#readCsvToMemory('task1.csv')\n",
    "            "
   ]
  },
  {
   "cell_type": "markdown",
   "metadata": {
    "deletable": false
   },
   "source": [
    "<p style=\"color:red; font-weight:bold; font-size:xx-small\">MARK: __%</p>\n",
    "<p style=\"color:red; font-weight:bold; font-size:xx-small\">FEEDBACK: </p>"
   ]
  },
  {
   "cell_type": "markdown",
   "metadata": {
    "deletable": false
   },
   "source": [
    "### Requirement FR4 - Develop a function to calculate the Pearson Correlation Coefficient for two named columns"
   ]
  },
  {
   "cell_type": "code",
   "execution_count": 4,
   "metadata": {
    "deletable": false
   },
   "outputs": [
    {
     "data": {
      "text/plain": [
       "'-0.0000000000000001237034215619012730194210471180821579225742431118115205457286265300353989005088806152'"
      ]
     },
     "execution_count": 4,
     "metadata": {},
     "output_type": "execute_result"
    }
   ],
   "source": [
    "# replace with your code\n",
    "\n",
    "def PearsonCorr(list1,list2):\n",
    "    # renaming the list for convenience\n",
    "    # list1 = x and list2 = y \n",
    "    x =list1\n",
    "    y =list2       \n",
    "    if len(x)==len(y):\n",
    "        \n",
    "        \n",
    "        mean_x = meanCalc(x) # mean for list 1\n",
    "        mean_y = meanCalc(y) # mean for list 2\n",
    "        \n",
    "        x_deviations = []\n",
    "        y_deviations = []\n",
    "        for i in range(0, len(x)):\n",
    "            # len(X) is used because all the genersated\n",
    "            #lists are of the same length\n",
    "            \n",
    "            # creating the list of deviations (x-xbar) for both list values\n",
    "            x_deviations.append(x[i]-mean_x)\n",
    "            y_deviations.append(y[1]-mean_y)\n",
    "         \n",
    "        \n",
    "        multiple_of_deviations = []\n",
    "        for i in range(0,len(x)):\n",
    "            multiple_of_deviations.append(x_deviations[i]*y_deviations[i])\n",
    "            \n",
    "        \n",
    "        Sum_multiple_of_deviations = 0\n",
    "        for data in multiple_of_deviations:\n",
    "            # updating the value of Sum_multiple_of_deviations by adding each value in the \n",
    "            # multiple_of_deviations list\n",
    "            \n",
    "            Sum_multiple_of_deviations = Sum_multiple_of_deviations+data\n",
    "        \n",
    "            # this sum_multiple_of_deviations is the numerator for the pearsons correlation coefficiant\n",
    "            # calculation\n",
    "        #print(Sum_multiple_of_deviations)\n",
    "        \n",
    "        # now finding  the squared of deviation values for each elements\n",
    "        x_deviations_squared = list(map(lambda n:n*n,  x_deviations))\n",
    "        y_deviations_squared = list(map(lambda n:n*n, y_deviations) ) \n",
    "            \n",
    "        # now finding the  sum of the deviations squared for each  or x and list2  or y  \n",
    "        sum_x_deviations_squared = 0\n",
    "        sum_y_deviations_squared = 0\n",
    "        for k in range(0,len(x)):\n",
    "            # now adding all the elemants in x_deviations_squared and y_deviations_squared together\n",
    "            sum_x_deviations_squared = sum_x_deviations_squared+x_deviations_squared[k]\n",
    "            sum_y_deviations_squared = sum_y_deviations_squared+y_deviations_squared[k]\n",
    "            \n",
    "        pearsons_corr_coefficient = (Sum_multiple_of_deviations)/((sum_x_deviations_squared*sum_y_deviations_squared)**(1/2))\n",
    "        \n",
    "        \n",
    "        # conveting the pearsoncorellation coefficient from exponential form to decimal format\n",
    "        \n",
    "        return format(pearsons_corr_coefficient, '.100f')   \n",
    "    \n",
    "    else:\n",
    "        return 'ERROR the input Lists are not of the same length'\n",
    "\n",
    "A = [85, 29, 35, 55, 82, 45, 42, 21, 42, 60, 56, 30, 72, 56, 37, 65, 29, 14, 66,  43, 23, 39, 81, 56, 74]\n",
    "B = [ 29, 2, 2, 14, 66, 55, 3, 31, 66, 63, 41, 30, 48, 68, 58, 51, 44, 66, 34, 20, 71, 59, 57, 43, 48]\n",
    "\n",
    "# testing the function\n",
    "PearsonCorr(A,B)"
   ]
  },
  {
   "cell_type": "markdown",
   "metadata": {
    "deletable": false
   },
   "source": [
    "<p style=\"color:red; font-weight:bold; font-size:xx-small\">MARK: __%</p>\n",
    "<p style=\"color:red; font-weight:bold; font-size:xx-small\">FEEDBACK: </p>"
   ]
  },
  {
   "cell_type": "markdown",
   "metadata": {
    "deletable": false
   },
   "source": [
    "### Requirement FR5 - Develop a function to generate a set of Pearson Correlation Coefficients for a given data file "
   ]
  },
  {
   "cell_type": "code",
   "execution_count": 8,
   "metadata": {
    "deletable": false
   },
   "outputs": [
    {
     "data": {
      "text/plain": [
       "[('age',\n",
       "  'pop',\n",
       "  '0.0000000000000001510697001656149496138094321460053018093496639880773946273961882980074733495712280273'),\n",
       " ('age',\n",
       "  'share_white',\n",
       "  '-0.0000000000000001301376201656951943914025615253654710088025220826243866234506185719510540366172790527'),\n",
       " ('age',\n",
       "  'share_black',\n",
       "  '-0.0000000000000001327014533566267208982304799670448851412965377352670692800984397763386368751525878906'),\n",
       " ('age',\n",
       "  'share_hispanic',\n",
       "  '0.0000000000000001272351841651832650642514700404902218824353707198049345805657139862887561321258544922'),\n",
       " ('age',\n",
       "  'personal_income',\n",
       "  '0.0000000000000001421530673882624798261100776292235465937975331766895958907070962595753371715545654297'),\n",
       " ('age',\n",
       "  'household_income',\n",
       "  '0.0000000000000001531336469026520838379283978777779590005638350952779647151658082293579354882240295410'),\n",
       " ('age',\n",
       "  'poverty_rate',\n",
       "  '-0.0000000000000001422531434916353776426086311978326482904396436306518336500914756470592692494392395020'),\n",
       " ('age',\n",
       "  'unemployment_rate',\n",
       "  '0.0000000000000001151309536717993902260927110749248193137457178065671814515269488765625283122062683105'),\n",
       " ('age',\n",
       "  'uni_education_25+',\n",
       "  '0.0000000000000000209812816189296715492643643036699022013582879023696134423992987194651504978537559509'),\n",
       " ('pop',\n",
       "  'age',\n",
       "  '-0.0000000000000001557805894629997822760119625284606426363934411714190497733056872675660997629165649414'),\n",
       " ('pop',\n",
       "  'share_white',\n",
       "  '0.0000000000000001570561779946841769687274569760674669920429868301761655580151000322075560688972473145'),\n",
       " ('pop',\n",
       "  'share_black',\n",
       "  '0.0000000000000001866169670496183471621719909551375039560755687709572847587935484625631943345069885254'),\n",
       " ('pop',\n",
       "  'share_hispanic',\n",
       "  '-0.0000000000000001653307387499513189565727447382572027069391382668450685144989620312117040157318115234'),\n",
       " ('pop',\n",
       "  'personal_income',\n",
       "  '-0.0000000000000001494885844393511783474227840691882778608311102379324619704448195989243686199188232422'),\n",
       " ('pop',\n",
       "  'household_income',\n",
       "  '-0.0000000000000001915499054380023404912478495040818044033208373058685403123035939643159508705139160156'),\n",
       " ('pop',\n",
       "  'poverty_rate',\n",
       "  '0.0000000000000001711345746471631228296543876912094600243806569259824579276596523413900285959243774414'),\n",
       " ('pop',\n",
       "  'unemployment_rate',\n",
       "  '-0.0000000000000001589084833970476856489816740284303525904870406544600047737958448124118149280548095703'),\n",
       " ('pop',\n",
       "  'uni_education_25+',\n",
       "  '-0.0000000000000001710598998568104611677651255850562334710488263242109119310896403476363047957420349121'),\n",
       " ('share_white',\n",
       "  'age',\n",
       "  '-0.0000000000000014660452898788034423080775830943484232918473794335390003595875896280631422996520996094'),\n",
       " ('share_white',\n",
       "  'pop',\n",
       "  '-0.0000000000000014574892645076289929366606898855131442447566770398426072574693534988909959793090820312'),\n",
       " ('share_white',\n",
       "  'share_black',\n",
       "  '0.0000000000000014733043317020834717020077888581285076184852495667643168530958064366132020950317382812'),\n",
       " ('share_white',\n",
       "  'share_hispanic',\n",
       "  '-0.0000000000000014626777009494749134577994178706632978698078551699213178949321445543318986892700195312'),\n",
       " ('share_white',\n",
       "  'personal_income',\n",
       "  '-0.0000000000000014812283721950982669309483126020935862239634017017975153862607839982956647872924804688'),\n",
       " ('share_white',\n",
       "  'household_income',\n",
       "  '-0.0000000000000014698335779277840930377692131117648816278993453149359638132409600075334310531616210938'),\n",
       " ('share_white',\n",
       "  'poverty_rate',\n",
       "  '0.0000000000000014704848397297720484796824851882274939148307181871477844481432839529588818550109863281'),\n",
       " ('share_white',\n",
       "  'unemployment_rate',\n",
       "  '-0.0000000000000014725026303192136350347048759972599053224157896954671365108424652134999632835388183594'),\n",
       " ('share_white',\n",
       "  'uni_education_25+',\n",
       "  '-0.0000000000000014041587561843243220724200022704595023291632453418809056699956272495910525321960449219'),\n",
       " ('share_black',\n",
       "  'age',\n",
       "  '0.0000000000000003698270765453609319971740089947239078721900646003206691858622434665448963642120361328'),\n",
       " ('share_black',\n",
       "  'pop',\n",
       "  '0.0000000000000003880748991248782081883095988957319483213529093864474495134686549135949462652206420898'),\n",
       " ('share_black',\n",
       "  'share_white',\n",
       "  '-0.0000000000000003591125989191875971018734881147405485071583098547615131579391345439944416284561157227'),\n",
       " ('share_black',\n",
       "  'share_hispanic',\n",
       "  '0.0000000000000003557452972066844276595235394194908094242217762824542770516700329608283936977386474609'),\n",
       " ('share_black',\n",
       "  'personal_income',\n",
       "  '0.0000000000000003758940342082918428362360036774528904191964911660206460908284498145803809165954589844'),\n",
       " ('share_black',\n",
       "  'household_income',\n",
       "  '0.0000000000000004051956205490769270593954819279615021276912860750951672628161759348586201667785644531'),\n",
       " ('share_black',\n",
       "  'poverty_rate',\n",
       "  '-0.0000000000000003720033099238415200697172058340881394376554449840432958751534897601231932640075683594'),\n",
       " ('share_black',\n",
       "  'unemployment_rate',\n",
       "  '0.0000000000000003732021271380432939376101284612216707650278609779276317581775401777122169733047485352'),\n",
       " ('share_black',\n",
       "  'uni_education_25+',\n",
       "  '0.0000000000000002547934088606290864299940600597302126953698085849719934259383080643601715564727783203'),\n",
       " ('share_hispanic',\n",
       "  'age',\n",
       "  '0.0000000000000002881596675321692973155568439124854971559768141483454106932526883610989898443222045898'),\n",
       " ('share_hispanic',\n",
       "  'pop',\n",
       "  '0.0000000000000002922424322706777873894607755988706781029770587730653996771934544085524976253509521484'),\n",
       " ('share_hispanic',\n",
       "  'share_white',\n",
       "  '-0.0000000000000002625278998850742385425787581557174672003274608182710192494369039195589721202850341797'),\n",
       " ('share_hispanic',\n",
       "  'share_black',\n",
       "  '-0.0000000000000002630435361097016154815107273808698442095936945433337639244086858525406569242477416992'),\n",
       " ('share_hispanic',\n",
       "  'personal_income',\n",
       "  '0.0000000000000003262798460434737762259265405730628998856554013902747657382974466599989682435989379883'),\n",
       " ('share_hispanic',\n",
       "  'household_income',\n",
       "  '0.0000000000000002741023021955572147569996810740335951208303971217417061012611156911589205265045166016'),\n",
       " ('share_hispanic',\n",
       "  'poverty_rate',\n",
       "  '-0.0000000000000003559892052665813310408413155514621397364947118484995725040676006756257265806198120117'),\n",
       " ('share_hispanic',\n",
       "  'unemployment_rate',\n",
       "  '0.0000000000000003124096537473359628461132992381064969876790010303024835991436702897772192955017089844'),\n",
       " ('share_hispanic',\n",
       "  'uni_education_25+',\n",
       "  '0.0000000000000006021178644095702515940359982039913642608251211595093987938298596418462693691253662109'),\n",
       " ('personal_income',\n",
       "  'age',\n",
       "  '0.0000000000000000626302713879588986472692439045475660009949618600710863347558188252151012420654296875'),\n",
       " ('personal_income',\n",
       "  'pop',\n",
       "  '0.0000000000000000778237311241257859605008024434394134992074620383629979247785968254902400076389312744'),\n",
       " ('personal_income',\n",
       "  'share_white',\n",
       "  '-0.0000000000000001003640622693770084489229392427017015716325453811644252688495271286228671669960021973'),\n",
       " ('personal_income',\n",
       "  'share_black',\n",
       "  '-0.0000000000000000644618814318902944403199372685064674710522347311075774811683913867454975843429565430'),\n",
       " ('personal_income',\n",
       "  'share_hispanic',\n",
       "  '0.0000000000000000898555946081775822505390987378406965470722828092688116985442547957063652575016021729'),\n",
       " ('personal_income',\n",
       "  'household_income',\n",
       "  '0.0000000000000000448979587285898011356207050245377195362246165396841873773681186321482528001070022583'),\n",
       " ('personal_income',\n",
       "  'poverty_rate',\n",
       "  '-0.0000000000000000468985692925757761833613829862822867790718073450519087774779336541541852056980133057'),\n",
       " ('personal_income',\n",
       "  'unemployment_rate',\n",
       "  '0.0000000000000000822992946678745754029936705358149745923818725763798642702795405057258903980255126953'),\n",
       " ('personal_income',\n",
       "  'uni_education_25+',\n",
       "  '0.0000000000000000662289034597107545853780830543883061070548325869992989378687298085424117743968963623'),\n",
       " ('household_income',\n",
       "  'age',\n",
       "  '0.0000000000000000339516495129463754952148595478304986568262535077001446071065515752707142382860183716'),\n",
       " ('household_income',\n",
       "  'pop',\n",
       "  '-0.0000000000000000234730061534633626651670620179151364509694794544545151659953319267515325918793678284'),\n",
       " ('household_income',\n",
       "  'share_white',\n",
       "  '0.0000000000000000334900951112311051635175015149022896246041064059143638198534631555958185344934463501'),\n",
       " ('household_income',\n",
       "  'share_black',\n",
       "  '0.0000000000000000351051228375670492920634637053752095820811045387074833534768458775943145155906677246'),\n",
       " ('household_income',\n",
       "  'share_hispanic',\n",
       "  '-0.0000000000000000953136898593312757939470335087901018512995110617755378790150189161067828536033630371'),\n",
       " ('household_income',\n",
       "  'personal_income',\n",
       "  '-0.0000000000000000469733841518162212038208795838562658016914652019460629794878059328766539692878723145'),\n",
       " ('household_income',\n",
       "  'poverty_rate',\n",
       "  '0.0000000000000000456636563656303071406435444655239707982211890327766540265130856823816429823637008667'),\n",
       " ('household_income',\n",
       "  'unemployment_rate',\n",
       "  '0.0000000000000000193067115416174036579852270680672134254169908880362921399509446018782909959554672241'),\n",
       " ('household_income',\n",
       "  'uni_education_25+',\n",
       "  '0.0000000000000000000000000000000000000000000000000000000000000000000000000000000000000000000000000000'),\n",
       " ('poverty_rate',\n",
       "  'age',\n",
       "  '0.0000000000000000492021431936174814211941310614087906844393278764631521893235799325339030474424362183'),\n",
       " ('poverty_rate',\n",
       "  'pop',\n",
       "  '0.0000000000000000465466697291505814386481973072142119701548662797675748326042821645387448370456695557'),\n",
       " ('poverty_rate',\n",
       "  'share_white',\n",
       "  '-0.0000000000000000360508261140746753048695108088825435910893708066436019743505880796874407678842544556'),\n",
       " ('poverty_rate',\n",
       "  'share_black',\n",
       "  '-0.0000000000000000757182151560811730752377604588251803711401399462656292005391378552303649485111236572'),\n",
       " ('poverty_rate',\n",
       "  'share_hispanic',\n",
       "  '0.0000000000000000532004642646387938593132377868073661841733032072578740701018773506802972406148910522'),\n",
       " ('poverty_rate',\n",
       "  'personal_income',\n",
       "  '0.0000000000000000385643002285733661268282648449860668750378462385323963257377499758149497210979461670'),\n",
       " ('poverty_rate',\n",
       "  'household_income',\n",
       "  '0.0000000000000000429798581857197688699551730338776022779701018383322064231322201521834358572959899902'),\n",
       " ('poverty_rate',\n",
       "  'unemployment_rate',\n",
       "  '0.0000000000000000484222891922704543298822515643101819193662999486586773212337675431626848876476287842'),\n",
       " ('poverty_rate',\n",
       "  'uni_education_25+',\n",
       "  '0.0000000000000001154268084632370720589417989254944684195333274917202870391008673323085531592369079590'),\n",
       " ('unemployment_rate',\n",
       "  'age',\n",
       "  '-0.0000000000000011101276558501654395307181891821613103708127606034095080644874542485922574996948242188'),\n",
       " ('unemployment_rate',\n",
       "  'pop',\n",
       "  '-0.0000000000000010942480274090251506333765038935664238693988873848961240753396850777789950370788574219'),\n",
       " ('unemployment_rate',\n",
       "  'share_white',\n",
       "  '0.0000000000000011263967960255725303133840678285985734904419124785546202360819734167307615280151367188'),\n",
       " ('unemployment_rate',\n",
       "  'share_black',\n",
       "  '0.0000000000000010926583663326814857434111772176376450836778964417761450533816969254985451698303222656'),\n",
       " ('unemployment_rate',\n",
       "  'share_hispanic',\n",
       "  '-0.0000000000000010902523140945266123597547422004305186809847453763278046778850693954154849052429199219'),\n",
       " ('unemployment_rate',\n",
       "  'personal_income',\n",
       "  '-0.0000000000000011097567687800649696804549510629946844198189795024922510435771982884034514427185058594'),\n",
       " ('unemployment_rate',\n",
       "  'household_income',\n",
       "  '-0.0000000000000011004332402530068460425754867649156372481032955396029748840192041825503110885620117188'),\n",
       " ('unemployment_rate',\n",
       "  'poverty_rate',\n",
       "  '0.0000000000000011019802696553486052035033779728408300808685472624293133492301421938464045524597167969'),\n",
       " ('unemployment_rate',\n",
       "  'uni_education_25+',\n",
       "  '-0.0000000000000010927630980853338705052488992739654400886931302772087093444497440941631793975830078125'),\n",
       " ('uni_education_25+',\n",
       "  'age',\n",
       "  '-0.0000000000000004979745399615033462564447790502195951774604934687851187646856487845070660114288330078'),\n",
       " ('uni_education_25+',\n",
       "  'pop',\n",
       "  '-0.0000000000000004685138482826494065585057247187118074248089500018210618037528547574765980243682861328'),\n",
       " ('uni_education_25+',\n",
       "  'share_white',\n",
       "  '0.0000000000000004840357083519849199612209363537113446485806822310038466383730337838642299175262451172'),\n",
       " ('uni_education_25+',\n",
       "  'share_black',\n",
       "  '0.0000000000000004844893248762400825211252423952864871368895346125105216827932963497005403041839599609'),\n",
       " ('uni_education_25+',\n",
       "  'share_hispanic',\n",
       "  '-0.0000000000000005025962473514511879476010912033377557735068117891752415005157672567293047904968261719'),\n",
       " ('uni_education_25+',\n",
       "  'personal_income',\n",
       "  '-0.0000000000000004853309184862781510504799098317382707170889919422174241248058024211786687374114990234'),\n",
       " ('uni_education_25+',\n",
       "  'household_income',\n",
       "  '-0.0000000000000005209911182354900347935116932202084407847186300032082950650647035217843949794769287109'),\n",
       " ('uni_education_25+',\n",
       "  'poverty_rate',\n",
       "  '0.0000000000000004638301893821086729113044522270549629673757631963260106289226314402185380458831787109'),\n",
       " ('uni_education_25+',\n",
       "  'unemployment_rate',\n",
       "  '-0.0000000000000004822071512337668403868440920327781029632336772146328218724420366925187408924102783203')]"
      ]
     },
     "execution_count": 8,
     "metadata": {},
     "output_type": "execute_result"
    }
   ],
   "source": [
    "# replace with your code\n",
    "\n",
    "# FUNCTION 5\n",
    "def setOfPearsonCorrelation(datafile):\n",
    "    temp = readCsvToMemory(datafile)\n",
    "    sol = []\n",
    "\n",
    "    for k in temp:\n",
    "        for i in temp:\n",
    "            if k!=i:\n",
    "                a=(k , i , PearsonCorr(temp[k],temp[i]))\n",
    "                sol.append(a)\n",
    "    #print(sol)\n",
    "\n",
    "    return sol\n",
    "                \n",
    "setOfPearsonCorrelation('task1.csv')    "
   ]
  },
  {
   "cell_type": "markdown",
   "metadata": {
    "deletable": false
   },
   "source": [
    "<p style=\"color:red; font-weight:bold; font-size:xx-small\">MARK: __%</p>\n",
    "<p style=\"color:red; font-weight:bold; font-size:xx-small\">FEEDBACK: </p>"
   ]
  },
  {
   "cell_type": "markdown",
   "metadata": {
    "deletable": false
   },
   "source": [
    "### Requirement FR6 - Develop a function to print a custom table"
   ]
  },
  {
   "cell_type": "code",
   "execution_count": 35,
   "metadata": {
    "deletable": false
   },
   "outputs": [
    {
     "name": "stdout",
     "output_type": "stream",
     "text": [
      "***************************************************************************************************************************\n",
      "                    #        age         #        BMI         #      Glucose       #   BloodPressure    # uni_education_25+  #\n",
      "        age         #         -          #        -0.0        #        -0.0        #        -0.0        #        -0.0        #\n",
      "        BMI         #        -0.0        #         -          #        -0.0        #        -0.0        #        -0.0        #\n",
      "      Glucose       #        -0.0        #        -0.0        #         -          #        -0.0        #        -0.0        #\n",
      "   BloodPressure    #        -0.0        #        -0.0        #        -0.0        #         -          #        -0.0        #\n",
      " uni_education_25+  #        -0.0        #        -0.0        #        -0.0        #        -0.0        #         -          #\n",
      "***************************************************************************************************************************\n"
     ]
    }
   ],
   "source": [
    "   \n",
    "    \n",
    "def CustomTable(list_Of_Coeff, bordChar, *columns):\n",
    "    \n",
    "    # list_Of_Coeff takes in a list of tuples \n",
    "    # bordChar takes in the character to be used for the border\n",
    "    # columns takes the names of the columns to be used in the table\n",
    "    \n",
    "    def display_padding(data):\n",
    "        # this function prints the padding for each cells in the column\n",
    "        print('{0: ^20}'.format(data), end=bordChar)\n",
    "        \n",
    "    temp_col = []\n",
    "    \n",
    "    temp_coeff = 0\n",
    "\n",
    "    incl_column = ['']\n",
    "    for data in columns:\n",
    "        incl_column.append(data)\n",
    "        \n",
    "    # prints the first border line in the table\n",
    "    print('*'*len(incl_column[2])*41 )    \n",
    "\n",
    "    for row_index, data in enumerate(incl_column):\n",
    "        display_padding(data)\n",
    "        for val in  incl_column[1:]:\n",
    "            if data == '':\n",
    "                display_padding(val)\n",
    "                    \n",
    "            else:\n",
    "                if val==data:\n",
    "                    display_padding('-')\n",
    "                else:\n",
    "                    \n",
    "                    for tup in list_Of_Coeff:                       \n",
    "                        if data and val in tup:\n",
    "                             temp_coeff = tup[2]\n",
    "                        \n",
    "                    display_padding(round(float(tup[2]),15))\n",
    "                  \n",
    "                    \n",
    "        print()\n",
    "        \n",
    "        # prints the final border line in the table\n",
    "    print('*'*len(incl_column[2])*41 )    \n",
    "\n",
    "                \n",
    "                \n",
    "\n",
    "\n",
    "                \n",
    "# NOTES: \n",
    "#    1 this function outputs a good table when the number of columns that are to be passed as an argument\n",
    "#      are not greater than 5.\n",
    "#    2 Also, the pearson correlation values have been rounded up to a floating point number of two digits because the pearson \n",
    "#      this coefficient is very large when left in decimal format and is not well visualized in jupyter notebook\n",
    "\n",
    "\n",
    "\n",
    "\n",
    "        \n",
    "        \n",
    "        \n",
    "   \n",
    "\n",
    "\n",
    "\n",
    "CustomTable(setOfPearsonCorrelation('task1.csv'), '#', 'age','BMI','Glucose', 'BloodPressure','uni_education_25+')   \n",
    " "
   ]
  },
  {
   "cell_type": "markdown",
   "metadata": {
    "deletable": false
   },
   "source": [
    "<p style=\"color:red; font-weight:bold; font-size:xx-small\">MARK: __%</p>\n",
    "<p style=\"color:red; font-weight:bold; font-size:xx-small\">FEEDBACK: </p>"
   ]
  },
  {
   "cell_type": "markdown",
   "metadata": {
    "deletable": false
   },
   "source": [
    "# Coding Standards\n",
    "<p style=\"color:red; font-weight:bold; font-size:xx-small\">MARK: __%</p>\n",
    "<p style=\"color:red; font-weight:bold; font-size:xx-small\">FEEDBACK: </p>"
   ]
  },
  {
   "cell_type": "markdown",
   "metadata": {
    "deletable": false
   },
   "source": [
    "# Process Development Report for Task 1\n"
   ]
  },
  {
   "cell_type": "markdown",
   "metadata": {},
   "source": [
    "        process development report\n",
    "   In the development of the solution to this task, I approached the task by reading thorughly through the assignment file and documenting and trial and error approach, the inputs and outputs for ecah functions and looked at how i could implement the the basic inbuilt data structures in python, i used my then started to write the code for the solution. \n",
    "   In the process of writting the code, Using this documenting and trial and error approach it helped me to keep track of which pyrhon data structure will be best for handling the data from each file and which control structue in python will be useful. This documentation process however didnt go so far in providing insight for the code to be written i had to write down some of the codes on paper to check them and see if I was on the right track.\n",
    "   This approach might be improved by implementing advanced programing techniques by using techniques like space and time complexities to really guide the code development process along side the trial and error process to further make the code more optimized.\n",
    "   Another approach that could have been implemented in solving this problem is trying to further divide parts of the code for each functions into smaller steps that can be easily programmed and implemented without wasting time and energy on trial and error of code. \n",
    "\n",
    "\n"
   ]
  },
  {
   "cell_type": "markdown",
   "metadata": {
    "deletable": false
   },
   "source": [
    "<p style=\"color:red; font-weight:bold; font-size:xx-small\">MARK: __%</p>\n",
    "<p style=\"color:red; font-weight:bold; font-size:xx-small\">FEEDBACK: </p>"
   ]
  },
  {
   "cell_type": "code",
   "execution_count": null,
   "metadata": {},
   "outputs": [],
   "source": []
  },
  {
   "cell_type": "code",
   "execution_count": null,
   "metadata": {},
   "outputs": [],
   "source": []
  }
 ],
 "metadata": {
  "kernelspec": {
   "display_name": "Python 3 (ipykernel)",
   "language": "python",
   "name": "python3"
  },
  "language_info": {
   "codemirror_mode": {
    "name": "ipython",
    "version": 3
   },
   "file_extension": ".py",
   "mimetype": "text/x-python",
   "name": "python",
   "nbconvert_exporter": "python",
   "pygments_lexer": "ipython3",
   "version": "3.9.15"
  },
  "vscode": {
   "interpreter": {
    "hash": "f802b487518346e3e1ffe969cd09ba26fe4ca7bf768d95ece91df6a6a3bccea9"
   }
  }
 },
 "nbformat": 4,
 "nbformat_minor": 4
}
