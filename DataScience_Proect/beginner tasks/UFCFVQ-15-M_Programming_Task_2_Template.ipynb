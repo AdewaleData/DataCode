{
 "cells": [
  {
   "cell_type": "markdown",
   "metadata": {
    "deletable": false
   },
   "source": [
    "# UFCFVQ-15-M Programming for Data Science (Autumn 2022)\n",
    "# Programming Task 2\n",
    "\n",
    "## Student Id: "
   ]
  },
  {
   "cell_type": "markdown",
   "metadata": {
    "deletable": false
   },
   "source": [
    "### Requirement FR7 - Read CSV data from two files and merge it into a single Data Frame "
   ]
  },
  {
   "cell_type": "code",
   "execution_count": 62,
   "metadata": {
    "deletable": false
   },
   "outputs": [
    {
     "data": {
      "text/html": [
       "<div>\n",
       "<style scoped>\n",
       "    .dataframe tbody tr th:only-of-type {\n",
       "        vertical-align: middle;\n",
       "    }\n",
       "\n",
       "    .dataframe tbody tr th {\n",
       "        vertical-align: top;\n",
       "    }\n",
       "\n",
       "    .dataframe thead th {\n",
       "        text-align: right;\n",
       "    }\n",
       "</style>\n",
       "<table border=\"1\" class=\"dataframe\">\n",
       "  <thead>\n",
       "    <tr style=\"text-align: right;\">\n",
       "      <th></th>\n",
       "      <th>Unnamed: 0</th>\n",
       "      <th>id_student</th>\n",
       "      <th>gender</th>\n",
       "      <th>region</th>\n",
       "      <th>highest_education</th>\n",
       "      <th>age_band</th>\n",
       "      <th>disability</th>\n",
       "      <th>final_result</th>\n",
       "      <th>score</th>\n",
       "      <th>click_events</th>\n",
       "    </tr>\n",
       "  </thead>\n",
       "  <tbody>\n",
       "    <tr>\n",
       "      <th>0</th>\n",
       "      <td>0</td>\n",
       "      <td>11391</td>\n",
       "      <td>M</td>\n",
       "      <td>East Anglian Region</td>\n",
       "      <td>HE Qualification</td>\n",
       "      <td>55&lt;=</td>\n",
       "      <td>N</td>\n",
       "      <td>Pass</td>\n",
       "      <td>82.0</td>\n",
       "      <td>934.0</td>\n",
       "    </tr>\n",
       "    <tr>\n",
       "      <th>1</th>\n",
       "      <td>1</td>\n",
       "      <td>28400</td>\n",
       "      <td>F</td>\n",
       "      <td>Scotland</td>\n",
       "      <td>HE Qualification</td>\n",
       "      <td>35-55</td>\n",
       "      <td>N</td>\n",
       "      <td>Pass</td>\n",
       "      <td>67.0</td>\n",
       "      <td>1435.0</td>\n",
       "    </tr>\n",
       "    <tr>\n",
       "      <th>2</th>\n",
       "      <td>2</td>\n",
       "      <td>31604</td>\n",
       "      <td>F</td>\n",
       "      <td>South East Region</td>\n",
       "      <td>A Level or Equivalent</td>\n",
       "      <td>35-55</td>\n",
       "      <td>N</td>\n",
       "      <td>Pass</td>\n",
       "      <td>76.0</td>\n",
       "      <td>2158.0</td>\n",
       "    </tr>\n",
       "    <tr>\n",
       "      <th>3</th>\n",
       "      <td>3</td>\n",
       "      <td>32885</td>\n",
       "      <td>F</td>\n",
       "      <td>West Midlands Region</td>\n",
       "      <td>Lower Than A Level</td>\n",
       "      <td>0-35</td>\n",
       "      <td>N</td>\n",
       "      <td>Pass</td>\n",
       "      <td>55.0</td>\n",
       "      <td>1034.0</td>\n",
       "    </tr>\n",
       "    <tr>\n",
       "      <th>4</th>\n",
       "      <td>4</td>\n",
       "      <td>38053</td>\n",
       "      <td>M</td>\n",
       "      <td>Wales</td>\n",
       "      <td>A Level or Equivalent</td>\n",
       "      <td>35-55</td>\n",
       "      <td>N</td>\n",
       "      <td>Pass</td>\n",
       "      <td>68.0</td>\n",
       "      <td>2445.0</td>\n",
       "    </tr>\n",
       "    <tr>\n",
       "      <th>...</th>\n",
       "      <td>...</td>\n",
       "      <td>...</td>\n",
       "      <td>...</td>\n",
       "      <td>...</td>\n",
       "      <td>...</td>\n",
       "      <td>...</td>\n",
       "      <td>...</td>\n",
       "      <td>...</td>\n",
       "      <td>...</td>\n",
       "      <td>...</td>\n",
       "    </tr>\n",
       "    <tr>\n",
       "      <th>26716</th>\n",
       "      <td>26741</td>\n",
       "      <td>2620947</td>\n",
       "      <td>F</td>\n",
       "      <td>Scotland</td>\n",
       "      <td>A Level or Equivalent</td>\n",
       "      <td>0-35</td>\n",
       "      <td>Y</td>\n",
       "      <td>Distinction</td>\n",
       "      <td>89.0</td>\n",
       "      <td>476.0</td>\n",
       "    </tr>\n",
       "    <tr>\n",
       "      <th>26717</th>\n",
       "      <td>26742</td>\n",
       "      <td>2645731</td>\n",
       "      <td>F</td>\n",
       "      <td>East Anglian Region</td>\n",
       "      <td>Lower Than A Level</td>\n",
       "      <td>35-55</td>\n",
       "      <td>N</td>\n",
       "      <td>Distinction</td>\n",
       "      <td>89.0</td>\n",
       "      <td>893.0</td>\n",
       "    </tr>\n",
       "    <tr>\n",
       "      <th>26718</th>\n",
       "      <td>26743</td>\n",
       "      <td>2648187</td>\n",
       "      <td>F</td>\n",
       "      <td>South Region</td>\n",
       "      <td>A Level or Equivalent</td>\n",
       "      <td>0-35</td>\n",
       "      <td>Y</td>\n",
       "      <td>Pass</td>\n",
       "      <td>77.0</td>\n",
       "      <td>312.0</td>\n",
       "    </tr>\n",
       "    <tr>\n",
       "      <th>26719</th>\n",
       "      <td>26744</td>\n",
       "      <td>2679821</td>\n",
       "      <td>F</td>\n",
       "      <td>South East Region</td>\n",
       "      <td>Lower Than A Level</td>\n",
       "      <td>35-55</td>\n",
       "      <td>N</td>\n",
       "      <td>Withdrawn</td>\n",
       "      <td>92.0</td>\n",
       "      <td>275.0</td>\n",
       "    </tr>\n",
       "    <tr>\n",
       "      <th>26720</th>\n",
       "      <td>26745</td>\n",
       "      <td>2684003</td>\n",
       "      <td>F</td>\n",
       "      <td>Yorkshire Region</td>\n",
       "      <td>HE Qualification</td>\n",
       "      <td>35-55</td>\n",
       "      <td>N</td>\n",
       "      <td>Distinction</td>\n",
       "      <td>83.0</td>\n",
       "      <td>616.0</td>\n",
       "    </tr>\n",
       "  </tbody>\n",
       "</table>\n",
       "<p>26721 rows × 10 columns</p>\n",
       "</div>"
      ],
      "text/plain": [
       "       Unnamed: 0  id_student gender                region  \\\n",
       "0               0       11391      M   East Anglian Region   \n",
       "1               1       28400      F              Scotland   \n",
       "2               2       31604      F     South East Region   \n",
       "3               3       32885      F  West Midlands Region   \n",
       "4               4       38053      M                 Wales   \n",
       "...           ...         ...    ...                   ...   \n",
       "26716       26741     2620947      F              Scotland   \n",
       "26717       26742     2645731      F   East Anglian Region   \n",
       "26718       26743     2648187      F          South Region   \n",
       "26719       26744     2679821      F     South East Region   \n",
       "26720       26745     2684003      F      Yorkshire Region   \n",
       "\n",
       "           highest_education age_band disability final_result  score  \\\n",
       "0           HE Qualification     55<=          N         Pass   82.0   \n",
       "1           HE Qualification    35-55          N         Pass   67.0   \n",
       "2      A Level or Equivalent    35-55          N         Pass   76.0   \n",
       "3         Lower Than A Level     0-35          N         Pass   55.0   \n",
       "4      A Level or Equivalent    35-55          N         Pass   68.0   \n",
       "...                      ...      ...        ...          ...    ...   \n",
       "26716  A Level or Equivalent     0-35          Y  Distinction   89.0   \n",
       "26717     Lower Than A Level    35-55          N  Distinction   89.0   \n",
       "26718  A Level or Equivalent     0-35          Y         Pass   77.0   \n",
       "26719     Lower Than A Level    35-55          N    Withdrawn   92.0   \n",
       "26720       HE Qualification    35-55          N  Distinction   83.0   \n",
       "\n",
       "       click_events  \n",
       "0             934.0  \n",
       "1            1435.0  \n",
       "2            2158.0  \n",
       "3            1034.0  \n",
       "4            2445.0  \n",
       "...             ...  \n",
       "26716         476.0  \n",
       "26717         893.0  \n",
       "26718         312.0  \n",
       "26719         275.0  \n",
       "26720         616.0  \n",
       "\n",
       "[26721 rows x 10 columns]"
      ]
     },
     "execution_count": 62,
     "metadata": {},
     "output_type": "execute_result"
    }
   ],
   "source": [
    "\n",
    "import pandas as pd\n",
    "# first reading the files into pandas dataframe, then mapping both dataframes\n",
    "# then concatinating the \n",
    "\n",
    "\n",
    "# reading file 1\n",
    "df1 = pd.read_csv('task2a.csv')\n",
    "\n",
    "# reading file 2\n",
    "df2 = pd.read_csv('task2b.csv')\n",
    "\n",
    "# merging file 1 and file 2\n",
    "merged_result = pd.merge(df1 ,df2 , on = 'id_student')\n",
    "\n",
    "merged_result\n",
    "\n"
   ]
  },
  {
   "cell_type": "markdown",
   "metadata": {
    "deletable": false
   },
   "source": [
    "<p style=\"color:red; font-weight:bold; font-size:xx-small\">MARK: __%</p>\n",
    "<p style=\"color:red; font-weight:bold; font-size:xx-small\">FEEDBACK: </p>"
   ]
  },
  {
   "cell_type": "markdown",
   "metadata": {
    "deletable": false
   },
   "source": [
    "### Requirement FR8 - Clean the merged data"
   ]
  },
  {
   "cell_type": "code",
   "execution_count": 63,
   "metadata": {
    "deletable": false
   },
   "outputs": [
    {
     "data": {
      "text/html": [
       "<div>\n",
       "<style scoped>\n",
       "    .dataframe tbody tr th:only-of-type {\n",
       "        vertical-align: middle;\n",
       "    }\n",
       "\n",
       "    .dataframe tbody tr th {\n",
       "        vertical-align: top;\n",
       "    }\n",
       "\n",
       "    .dataframe thead th {\n",
       "        text-align: right;\n",
       "    }\n",
       "</style>\n",
       "<table border=\"1\" class=\"dataframe\">\n",
       "  <thead>\n",
       "    <tr style=\"text-align: right;\">\n",
       "      <th></th>\n",
       "      <th>Unnamed: 0</th>\n",
       "      <th>id_student</th>\n",
       "      <th>gender</th>\n",
       "      <th>age_band</th>\n",
       "      <th>disability</th>\n",
       "      <th>score</th>\n",
       "      <th>click_events</th>\n",
       "    </tr>\n",
       "  </thead>\n",
       "  <tbody>\n",
       "    <tr>\n",
       "      <th>0</th>\n",
       "      <td>0</td>\n",
       "      <td>11391</td>\n",
       "      <td>M</td>\n",
       "      <td>55&lt;=</td>\n",
       "      <td>N</td>\n",
       "      <td>82.0</td>\n",
       "      <td>934.0</td>\n",
       "    </tr>\n",
       "    <tr>\n",
       "      <th>1</th>\n",
       "      <td>1</td>\n",
       "      <td>28400</td>\n",
       "      <td>F</td>\n",
       "      <td>35-55</td>\n",
       "      <td>N</td>\n",
       "      <td>67.0</td>\n",
       "      <td>1435.0</td>\n",
       "    </tr>\n",
       "    <tr>\n",
       "      <th>2</th>\n",
       "      <td>2</td>\n",
       "      <td>31604</td>\n",
       "      <td>F</td>\n",
       "      <td>35-55</td>\n",
       "      <td>N</td>\n",
       "      <td>76.0</td>\n",
       "      <td>2158.0</td>\n",
       "    </tr>\n",
       "    <tr>\n",
       "      <th>3</th>\n",
       "      <td>3</td>\n",
       "      <td>32885</td>\n",
       "      <td>F</td>\n",
       "      <td>0-35</td>\n",
       "      <td>N</td>\n",
       "      <td>55.0</td>\n",
       "      <td>1034.0</td>\n",
       "    </tr>\n",
       "    <tr>\n",
       "      <th>4</th>\n",
       "      <td>4</td>\n",
       "      <td>38053</td>\n",
       "      <td>M</td>\n",
       "      <td>35-55</td>\n",
       "      <td>N</td>\n",
       "      <td>68.0</td>\n",
       "      <td>2445.0</td>\n",
       "    </tr>\n",
       "    <tr>\n",
       "      <th>...</th>\n",
       "      <td>...</td>\n",
       "      <td>...</td>\n",
       "      <td>...</td>\n",
       "      <td>...</td>\n",
       "      <td>...</td>\n",
       "      <td>...</td>\n",
       "      <td>...</td>\n",
       "    </tr>\n",
       "    <tr>\n",
       "      <th>26716</th>\n",
       "      <td>26741</td>\n",
       "      <td>2620947</td>\n",
       "      <td>F</td>\n",
       "      <td>0-35</td>\n",
       "      <td>Y</td>\n",
       "      <td>89.0</td>\n",
       "      <td>476.0</td>\n",
       "    </tr>\n",
       "    <tr>\n",
       "      <th>26717</th>\n",
       "      <td>26742</td>\n",
       "      <td>2645731</td>\n",
       "      <td>F</td>\n",
       "      <td>35-55</td>\n",
       "      <td>N</td>\n",
       "      <td>89.0</td>\n",
       "      <td>893.0</td>\n",
       "    </tr>\n",
       "    <tr>\n",
       "      <th>26718</th>\n",
       "      <td>26743</td>\n",
       "      <td>2648187</td>\n",
       "      <td>F</td>\n",
       "      <td>0-35</td>\n",
       "      <td>Y</td>\n",
       "      <td>77.0</td>\n",
       "      <td>312.0</td>\n",
       "    </tr>\n",
       "    <tr>\n",
       "      <th>26719</th>\n",
       "      <td>26744</td>\n",
       "      <td>2679821</td>\n",
       "      <td>F</td>\n",
       "      <td>35-55</td>\n",
       "      <td>N</td>\n",
       "      <td>92.0</td>\n",
       "      <td>275.0</td>\n",
       "    </tr>\n",
       "    <tr>\n",
       "      <th>26720</th>\n",
       "      <td>26745</td>\n",
       "      <td>2684003</td>\n",
       "      <td>F</td>\n",
       "      <td>35-55</td>\n",
       "      <td>N</td>\n",
       "      <td>83.0</td>\n",
       "      <td>616.0</td>\n",
       "    </tr>\n",
       "  </tbody>\n",
       "</table>\n",
       "<p>25332 rows × 7 columns</p>\n",
       "</div>"
      ],
      "text/plain": [
       "       Unnamed: 0  id_student gender age_band disability  score  click_events\n",
       "0               0       11391      M     55<=          N   82.0         934.0\n",
       "1               1       28400      F    35-55          N   67.0        1435.0\n",
       "2               2       31604      F    35-55          N   76.0        2158.0\n",
       "3               3       32885      F     0-35          N   55.0        1034.0\n",
       "4               4       38053      M    35-55          N   68.0        2445.0\n",
       "...           ...         ...    ...      ...        ...    ...           ...\n",
       "26716       26741     2620947      F     0-35          Y   89.0         476.0\n",
       "26717       26742     2645731      F    35-55          N   89.0         893.0\n",
       "26718       26743     2648187      F     0-35          Y   77.0         312.0\n",
       "26719       26744     2679821      F    35-55          N   92.0         275.0\n",
       "26720       26745     2684003      F    35-55          N   83.0         616.0\n",
       "\n",
       "[25332 rows x 7 columns]"
      ]
     },
     "execution_count": 63,
     "metadata": {},
     "output_type": "execute_result"
    }
   ],
   "source": [
    "# Cleaning the merged data\n",
    "\n",
    "\n",
    "# Removing all the unnecessary columns\n",
    "\n",
    "merged_result  = merged_result.drop(columns=['region', 'final_result', 'highest_education'])\n",
    "\n",
    "# removing missing  rows with missing values\n",
    "\n",
    "merged_result  = merged_result .dropna()\n",
    "\n",
    "merged_result \n"
   ]
  },
  {
   "cell_type": "markdown",
   "metadata": {
    "deletable": false
   },
   "source": [
    "<p style=\"color:red; font-weight:bold; font-size:xx-small\">MARK: __%</p>\n",
    "<p style=\"color:red; font-weight:bold; font-size:xx-small\">FEEDBACK: </p>"
   ]
  },
  {
   "cell_type": "markdown",
   "metadata": {
    "deletable": false
   },
   "source": [
    "\n",
    "### Requirement FR9 - Filter out unnecessary rows"
   ]
  },
  {
   "cell_type": "code",
   "execution_count": 67,
   "metadata": {
    "deletable": false
   },
   "outputs": [
    {
     "data": {
      "text/html": [
       "<div>\n",
       "<style scoped>\n",
       "    .dataframe tbody tr th:only-of-type {\n",
       "        vertical-align: middle;\n",
       "    }\n",
       "\n",
       "    .dataframe tbody tr th {\n",
       "        vertical-align: top;\n",
       "    }\n",
       "\n",
       "    .dataframe thead th {\n",
       "        text-align: right;\n",
       "    }\n",
       "</style>\n",
       "<table border=\"1\" class=\"dataframe\">\n",
       "  <thead>\n",
       "    <tr style=\"text-align: right;\">\n",
       "      <th></th>\n",
       "      <th>Unnamed: 0</th>\n",
       "      <th>id_student</th>\n",
       "      <th>gender</th>\n",
       "      <th>age_band</th>\n",
       "      <th>disability</th>\n",
       "      <th>score</th>\n",
       "      <th>click_events</th>\n",
       "    </tr>\n",
       "  </thead>\n",
       "  <tbody>\n",
       "    <tr>\n",
       "      <th>0</th>\n",
       "      <td>0</td>\n",
       "      <td>11391</td>\n",
       "      <td>M</td>\n",
       "      <td>55&lt;=</td>\n",
       "      <td>N</td>\n",
       "      <td>82.0</td>\n",
       "      <td>934.0</td>\n",
       "    </tr>\n",
       "    <tr>\n",
       "      <th>1</th>\n",
       "      <td>1</td>\n",
       "      <td>28400</td>\n",
       "      <td>F</td>\n",
       "      <td>35-55</td>\n",
       "      <td>N</td>\n",
       "      <td>67.0</td>\n",
       "      <td>1435.0</td>\n",
       "    </tr>\n",
       "    <tr>\n",
       "      <th>2</th>\n",
       "      <td>2</td>\n",
       "      <td>31604</td>\n",
       "      <td>F</td>\n",
       "      <td>35-55</td>\n",
       "      <td>N</td>\n",
       "      <td>76.0</td>\n",
       "      <td>2158.0</td>\n",
       "    </tr>\n",
       "    <tr>\n",
       "      <th>3</th>\n",
       "      <td>3</td>\n",
       "      <td>32885</td>\n",
       "      <td>F</td>\n",
       "      <td>0-35</td>\n",
       "      <td>N</td>\n",
       "      <td>55.0</td>\n",
       "      <td>1034.0</td>\n",
       "    </tr>\n",
       "    <tr>\n",
       "      <th>4</th>\n",
       "      <td>4</td>\n",
       "      <td>38053</td>\n",
       "      <td>M</td>\n",
       "      <td>35-55</td>\n",
       "      <td>N</td>\n",
       "      <td>68.0</td>\n",
       "      <td>2445.0</td>\n",
       "    </tr>\n",
       "    <tr>\n",
       "      <th>...</th>\n",
       "      <td>...</td>\n",
       "      <td>...</td>\n",
       "      <td>...</td>\n",
       "      <td>...</td>\n",
       "      <td>...</td>\n",
       "      <td>...</td>\n",
       "      <td>...</td>\n",
       "    </tr>\n",
       "    <tr>\n",
       "      <th>26716</th>\n",
       "      <td>26741</td>\n",
       "      <td>2620947</td>\n",
       "      <td>F</td>\n",
       "      <td>0-35</td>\n",
       "      <td>Y</td>\n",
       "      <td>89.0</td>\n",
       "      <td>476.0</td>\n",
       "    </tr>\n",
       "    <tr>\n",
       "      <th>26717</th>\n",
       "      <td>26742</td>\n",
       "      <td>2645731</td>\n",
       "      <td>F</td>\n",
       "      <td>35-55</td>\n",
       "      <td>N</td>\n",
       "      <td>89.0</td>\n",
       "      <td>893.0</td>\n",
       "    </tr>\n",
       "    <tr>\n",
       "      <th>26718</th>\n",
       "      <td>26743</td>\n",
       "      <td>2648187</td>\n",
       "      <td>F</td>\n",
       "      <td>0-35</td>\n",
       "      <td>Y</td>\n",
       "      <td>77.0</td>\n",
       "      <td>312.0</td>\n",
       "    </tr>\n",
       "    <tr>\n",
       "      <th>26719</th>\n",
       "      <td>26744</td>\n",
       "      <td>2679821</td>\n",
       "      <td>F</td>\n",
       "      <td>35-55</td>\n",
       "      <td>N</td>\n",
       "      <td>92.0</td>\n",
       "      <td>275.0</td>\n",
       "    </tr>\n",
       "    <tr>\n",
       "      <th>26720</th>\n",
       "      <td>26745</td>\n",
       "      <td>2684003</td>\n",
       "      <td>F</td>\n",
       "      <td>35-55</td>\n",
       "      <td>N</td>\n",
       "      <td>83.0</td>\n",
       "      <td>616.0</td>\n",
       "    </tr>\n",
       "  </tbody>\n",
       "</table>\n",
       "<p>25259 rows × 7 columns</p>\n",
       "</div>"
      ],
      "text/plain": [
       "       Unnamed: 0  id_student gender age_band disability  score  click_events\n",
       "0               0       11391      M     55<=          N   82.0         934.0\n",
       "1               1       28400      F    35-55          N   67.0        1435.0\n",
       "2               2       31604      F    35-55          N   76.0        2158.0\n",
       "3               3       32885      F     0-35          N   55.0        1034.0\n",
       "4               4       38053      M    35-55          N   68.0        2445.0\n",
       "...           ...         ...    ...      ...        ...    ...           ...\n",
       "26716       26741     2620947      F     0-35          Y   89.0         476.0\n",
       "26717       26742     2645731      F    35-55          N   89.0         893.0\n",
       "26718       26743     2648187      F     0-35          Y   77.0         312.0\n",
       "26719       26744     2679821      F    35-55          N   92.0         275.0\n",
       "26720       26745     2684003      F    35-55          N   83.0         616.0\n",
       "\n",
       "[25259 rows x 7 columns]"
      ]
     },
     "execution_count": 67,
     "metadata": {},
     "output_type": "execute_result"
    }
   ],
   "source": [
    "# Identifying the click_events less than ten (10)\n",
    "smaller_than_ten = merged_result[ (merged_result['click_events'] < 10 ) ].index\n",
    "\n",
    "# removing the clicks less than ten\n",
    "merged_result.drop(smaller_than_ten , inplace = True)\n",
    "\n",
    "# showing the result\n",
    "merged_result\n"
   ]
  },
  {
   "cell_type": "markdown",
   "metadata": {
    "deletable": false
   },
   "source": [
    "<p style=\"color:red; font-weight:bold; font-size:xx-small\">MARK: __%</p>\n",
    "<p style=\"color:red; font-weight:bold; font-size:xx-small\">FEEDBACK: </p>"
   ]
  },
  {
   "cell_type": "markdown",
   "metadata": {
    "deletable": false
   },
   "source": [
    "### Requirement FR10 - Investigate the effects of engagement on attainment"
   ]
  },
  {
   "cell_type": "code",
   "execution_count": 68,
   "metadata": {
    "deletable": false
   },
   "outputs": [
    {
     "data": {
      "text/plain": [
       "<matplotlib.collections.PathCollection at 0x1f670498850>"
      ]
     },
     "execution_count": 68,
     "metadata": {},
     "output_type": "execute_result"
    },
    {
     "data": {
      "image/png": "[encoded data removed]",
      "text/plain": [
       "<Figure size 432x288 with 1 Axes>"
      ]
     },
     "metadata": {
      "needs_background": "light"
     },
     "output_type": "display_data"
    }
   ],
   "source": [
    "# USING MATHPLOTLIB LIBARY TO DRAW SCATTER PLOT FOR THE INVESTIGATION FOR RELATIONSHIP\n",
    "# BETWEEN ENGAGEMENTS AND ATTAINMENTS\n",
    "\n",
    "import matplotlib.pyplot as plt\n",
    "\n",
    "# plotting a scatter plot for investigation\n",
    "\n",
    "plt.scatter( merged_result['click_events'], merged_result['score'] )\n",
    "\n",
    "\n",
    "\n",
    "# FINDINGS EXPLANATIONS\n",
    "\n",
    "# From the scatter plot of the click_events and the score fot the data set, \n",
    "# the pattern of data points in the plot, suggests that \n",
    "# there is a varying positive correlation to an extent, between\n",
    "# these two variables meaning the high scores  of students in the data set are tied to more click_events.\n"
   ]
  },
  {
   "cell_type": "markdown",
   "metadata": {
    "deletable": false
   },
   "source": [
    "<p style=\"color:red; font-weight:bold; font-size:xx-small\">MARK: __%</p>\n",
    "<p style=\"color:red; font-weight:bold; font-size:xx-small\">FEEDBACK: </p>"
   ]
  },
  {
   "cell_type": "markdown",
   "metadata": {
    "deletable": false
   },
   "source": [
    "### Requirement FR11 - Test the hypothesis that engagement has some effect on levels of attainment "
   ]
  },
  {
   "cell_type": "code",
   "execution_count": 69,
   "metadata": {
    "deletable": false
   },
   "outputs": [
    {
     "name": "stdout",
     "output_type": "stream",
     "text": [
      "0.2742357340189941\n"
     ]
    }
   ],
   "source": [
    "# USING THE CONCEPT OF PEARSONS CORRELATION FOR TESTING FOR STATISTICAL \n",
    "# SIGNIFICANCE RELATION BETWEEN ENGAGEMENT AND ATTAINMENT\n",
    "# USING THE CORELATION MATRIX\n",
    "\n",
    "# USING PANDAS LIBARY and using corr() function \n",
    "\n",
    "\n",
    "# correlation between click_events and score\n",
    "print(merged_result['click_events'].corr(merged_result['score']))\n",
    "\n",
    "\n",
    "# EXPLANATION  \n",
    "\n",
    "# since The value of the correlation coefficient can take any values from -1 to 1.\n",
    "\n",
    "# If the value is 1, it is said to be a positive correlation between two variables. \n",
    "# This means that when one variable increases, the other variable also increases.\n",
    "\n",
    "\n",
    "# If the value is -1, it is said to be a negative correlation between the two variables.\n",
    "# This means that when one variable increases, the other variable decreases.\n",
    "\n",
    "# If the value is 0, there is no correlation between the two variables. \n",
    "# This means that the variables changes in a random manner with respect to each other.\n",
    "\n",
    "#CONCLUSION\n",
    "\n",
    "# FROM THIS  statistically significant pearson coefficient corelation then I conclude that there is a fairly positive relation\n",
    "# between the engegements and the attainments\n"
   ]
  },
  {
   "cell_type": "markdown",
   "metadata": {
    "deletable": false
   },
   "source": [
    "<p style=\"color:red; font-weight:bold; font-size:xx-small\">MARK: __%</p>\n",
    "<p style=\"color:red; font-weight:bold; font-size:xx-small\">FEEDBACK: </p>"
   ]
  },
  {
   "cell_type": "markdown",
   "metadata": {
    "deletable": false
   },
   "source": [
    "### Requirement FR12 - Investigate the effects of disability on levels of attainment "
   ]
  },
  {
   "cell_type": "code",
   "execution_count": 70,
   "metadata": {
    "deletable": false
   },
   "outputs": [
    {
     "data": {
      "image/png": "[encoded data removed]",
      "text/plain": [
       "<Figure size 432x288 with 1 Axes>"
      ]
     },
     "metadata": {
      "needs_background": "light"
     },
     "output_type": "display_data"
    },
    {
     "data": {
      "text/plain": [
       "<matplotlib.collections.PathCollection at 0x1f6631daa00>"
      ]
     },
     "execution_count": 70,
     "metadata": {},
     "output_type": "execute_result"
    },
    {
     "data": {
      "image/png": "[encoded data removed]",
      "text/plain": [
       "<Figure size 432x288 with 1 Axes>"
      ]
     },
     "metadata": {
      "needs_background": "light"
     },
     "output_type": "display_data"
    }
   ],
   "source": [
    "# replace with your code\n",
    "\n",
    "fig = plt.figure()\n",
    "ax = fig.add_axes([0,0,1,1])\n",
    "\n",
    "ax.bar(merged_result['disability'],merged_result['score'])\n",
    "\n",
    "\n",
    "\n",
    "plt.show()\n",
    "\n",
    "plt.scatter( merged_result['disability'], merged_result['score'] )\n",
    "\n",
    "\n",
    "# FINDINGS EXPLANATIONS\n",
    "\n",
    "# From the bar chart of the disability and the score for the data set, \n",
    "# the levels of the bar charts for each disability class Yes or No \n",
    "# indicates that there is no significant effect of disability on the scores\n",
    "\n",
    "# ALSO,\n",
    "# From the bar chart of the disability and the score for the data set, \n",
    "# there is no form of relationship that shows that disability affects the scores \n",
    "# of the students\n",
    "\n"
   ]
  },
  {
   "cell_type": "markdown",
   "metadata": {
    "deletable": false
   },
   "source": [
    "<p style=\"color:red; font-weight:bold; font-size:xx-small\">MARK: __%</p>\n",
    "<p style=\"color:red; font-weight:bold; font-size:xx-small\">FEEDBACK: </p>"
   ]
  },
  {
   "cell_type": "markdown",
   "metadata": {
    "deletable": false
   },
   "source": [
    "### Requirement FR13 - Test if there is any difference between the attainment of disabled and non-disabled students"
   ]
  },
  {
   "cell_type": "code",
   "execution_count": 71,
   "metadata": {
    "deletable": false
   },
   "outputs": [
    {
     "name": "stdout",
     "output_type": "stream",
     "text": [
      "nan\n"
     ]
    }
   ],
   "source": [
    "\n",
    "# Extracting the scores of the disabled students and storing it in a list\n",
    "\n",
    "disabled = merged_result.loc[ merged_result['disability'] == 'Y', 'score']\n",
    "\n",
    "# Extracting the scores of the non_disabled students and storing it in a list\n",
    "\n",
    "non_disabled = merged_result.loc[ merged_result['disability'] == 'N', 'score']\n",
    "\n",
    "\n",
    "\n",
    "# calculating the pearsons correlation coefficient for the disabled and non disabled students scores\n",
    "# and printing this value out  \n",
    "    \n",
    "print(disabled.corr(non_disabled)) \n",
    "\n",
    "\n",
    "# EXPLANATION  \n",
    "\n",
    "# since The value of the correlation coefficient can take any values from -1 to 1.\n",
    "\n",
    "# If the value is 1, it is said to be a positive correlation between two variables. \n",
    "# This means that when one variable increases, the other variable also increases.\n",
    "\n",
    "\n",
    "# If the value is -1, it is said to be a negative correlation between the two variables.\n",
    "# This means that when one variable increases, the other variable decreases.\n",
    "\n",
    "# If the value is 0, there is no correlation between the two variables. \n",
    "# This means that the variables changes in a random manner with respect to each other.\n",
    "\n",
    "\n",
    "# FROM THIS  statistically significant pearson coefficient corelation,\n",
    "# I conclude that there is no correlation between the disabled and non disabled students scores\n",
    "\n"
   ]
  },
  {
   "cell_type": "markdown",
   "metadata": {
    "deletable": false
   },
   "source": [
    "<p style=\"color:red; font-weight:bold; font-size:xx-small\">MARK: __%</p>\n",
    "<p style=\"color:red; font-weight:bold; font-size:xx-small\">FEEDBACK: </p>"
   ]
  },
  {
   "cell_type": "markdown",
   "metadata": {
    "deletable": false
   },
   "source": [
    "# Coding Standards\n",
    "<p style=\"color:red; font-weight:bold; font-size:xx-small\">MARK: __%</p>\n",
    "<p style=\"color:red; font-weight:bold; font-size:xx-small\">FEEDBACK: </p>"
   ]
  },
  {
   "cell_type": "markdown",
   "metadata": {
    "deletable": false
   },
   "source": [
    "# Process Development Report for Task 2\n"
   ]
  },
  {
   "cell_type": "markdown",
   "metadata": {},
   "source": [
    "  For this development task, I approached this program by first Reading and understanding functions that are able to perform the needed tasks and then implementing them in the development.\n",
    "  The pros of this apperoach was that, it helped to introduce me to package documentation reading and understanding, I got to do a lot of reading on how certain frameworks work and how to implement them in solving diffrent problems. while the cons of this approach is that it took a lot of time to get the understanding of the doumentations for each libaries used in this task.\n",
    "  I belive this approach can be better implemented by keeping good track of needed functions before reading the documentation, because some functions there are in the documentation files are not necessary for developmrnt and it will save time to know them and disregard them while researching.\n",
    "  Another way to tackle this task will be to watch videos on the packages used in the development process in other to get a visual sense of how the required tasks can be completed."
   ]
  },
  {
   "cell_type": "raw",
   "metadata": {},
   "source": []
  },
  {
   "cell_type": "markdown",
   "metadata": {
    "deletable": false
   },
   "source": [
    "<p style=\"color:red; font-weight:bold; font-size:xx-small\">MARK: __%</p>\n",
    "<p style=\"color:red; font-weight:bold; font-size:xx-small\">FEEDBACK: </p>"
   ]
  }
 ],
 "metadata": {
  "kernelspec": {
   "display_name": "Python 3 (ipykernel)",
   "language": "python",
   "name": "python3"
  },
  "language_info": {
   "codemirror_mode": {
    "name": "ipython",
    "version": 3
   },
   "file_extension": ".py",
   "mimetype": "text/x-python",
   "name": "python",
   "nbconvert_exporter": "python",
   "pygments_lexer": "ipython3",
   "version": "3.9.15"
  },
  "vscode": {
   "interpreter": {
    "hash": "ad2bdc8ecc057115af97d19610ffacc2b4e99fae6737bb82f5d7fb13d2f2c186"
   }
  }
 },
 "nbformat": 4,
 "nbformat_minor": 4
}
